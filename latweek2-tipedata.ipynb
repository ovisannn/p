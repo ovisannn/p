{
 "metadata": {
  "language_info": {
   "codemirror_mode": {
    "name": "ipython",
    "version": 3
   },
   "file_extension": ".py",
   "mimetype": "text/x-python",
   "name": "python",
   "nbconvert_exporter": "python",
   "pygments_lexer": "ipython3",
   "version": "3.8.4-final"
  },
  "orig_nbformat": 2,
  "kernelspec": {
   "name": "python_defaultSpec_1600828542790",
   "display_name": "Python 3.8.4 64-bit"
  }
 },
 "nbformat": 4,
 "nbformat_minor": 2,
 "cells": [
  {
   "source": [
    "## Perkenalan dulu teman-teman coding! Disini rules dalam pengerjaan latihan soal asdos Algo1 2020/2021:\n",
    "\n",
    "1. Tidak kerja? **tidak apa-apa. Tidak berdampak nilai**.\n",
    "\n",
    "2. Kerja? Kalau kerjanya niat, nilai++\n",
    "\n",
    "3. Kalau mau tanya\" bisa ke forum yang sudah kita sediakan di forum.pemro.me\n",
    "\n",
    "4. Latihan ini hanya untuk membantu pengembangan diri kalian.\n",
    "\n",
    "5. Kalau ada soal yang susah / aneh, tanyakan ke asdos ndakpapa, ndakusah takut.\n",
    "\n",
    "6. GLHF!"
   ],
   "cell_type": "markdown",
   "metadata": {}
  },
  {
   "source": [
    "## Soal 0\n",
    "\n",
    "Mari kita mulai dengan mengingat kembali cara menampilkan (print) kalimat.\n",
    "\n",
    "Tugas:\n",
    "Tampilkan kalimat \"Latihan Soal Pertamaku\""
   ],
   "cell_type": "markdown",
   "metadata": {}
  },
  {
   "cell_type": "code",
   "execution_count": 1,
   "metadata": {
    "tags": []
   },
   "outputs": [],
   "source": [
    "#code here"
   ]
  },
  {
   "source": [
    "Expected output :\n",
    "\n",
    "Latihan Soal Pertamaku"
   ],
   "cell_type": "markdown",
   "metadata": {}
  },
  {
   "source": [
    "## Soal 1\n",
    "\n",
    "Kita sudah mengetahui bahwa kita dapat menampung sebuah nilai pada variabel. Dapatkah anda memasukkan nilai berikut ke variabel?\n",
    "\n",
    "\n",
    "Tugas:\n",
    "\n",
    "1. Masukkan nilai 20 ke sebuah variabel **angkatan**. \n",
    "\n",
    "2. Masukkan nama anda ke variabel lain **nama**. \n",
    "\n",
    "3. Masukkan \"Universitas Jember\" ke variabel **kampus**. \n",
    "\n",
    "4. Tampilkan kalimat sebagai berikut:\n",
    "\"Namaku **nama anda**. Aku angkatan **20** di **Universitas Jember**\"\n",
    "\n",
    "\n",
    "Note : Gunakan variabel yang telah diassign pada kata yang dibold."
   ],
   "cell_type": "markdown",
   "metadata": {}
  },
  {
   "cell_type": "code",
   "execution_count": null,
   "metadata": {},
   "outputs": [],
   "source": [
    "#code here"
   ]
  },
  {
   "source": [
    "Expected output :\n",
    "\n",
    "Namaku nama. Aku angkatan 20 di Universitas Jember "
   ],
   "cell_type": "markdown",
   "metadata": {}
  },
  {
   "source": [
    "## Soal 2\n",
    "\n",
    "Kita sudah mengetahui bahwa kita dapat menampung sebuah nilai pada variabel.\n",
    "\n",
    "Namun, sering kita lupa/tidak tahu apa tipe data variabel tsb setelah kita coding cukup banyak.\n",
    "\n",
    "Bagaimana cara mengingatnya?\n",
    "\n",
    "\n",
    "Tugas:\n",
    "\n",
    "1. Tampilkan masing-masing tipe data dari variabel angkatan, nama, dan kampus.\n",
    "\n",
    "Magic Word : type(namavar)"
   ],
   "cell_type": "markdown",
   "metadata": {}
  },
  {
   "cell_type": "code",
   "execution_count": null,
   "metadata": {},
   "outputs": [],
   "source": [
    "#code here"
   ]
  },
  {
   "source": [
    "Expected output :\n",
    "\n",
    "<class 'int'>\n",
    "\n",
    "<class 'str'>\n",
    "\n",
    "<class 'str'>"
   ],
   "cell_type": "markdown",
   "metadata": {}
  },
  {
   "source": [
    "## Sefruit pengetahuan\n",
    "\n",
    "Python adalah bahasa pemrograman yang dinamis. Kita dapat mengubah tipe data sebuah variabel di tengah-tengah program sesuai keinginan kita.\n",
    "Hal ini disebut dengan **casting**. \n",
    "\n",
    "Casting akan berguna saat kita sudah mencapai tingkat yang lebih tinggi.\n",
    "\n",
    "Contoh : (run kode dibawah ini)"
   ],
   "cell_type": "markdown",
   "metadata": {}
  },
  {
   "cell_type": "code",
   "execution_count": 1,
   "metadata": {
    "tags": []
   },
   "outputs": [
    {
     "output_type": "stream",
     "name": "stdout",
     "text": "<class 'int'>\n<class 'float'>\n"
    }
   ],
   "source": [
    "nilaiku = 90\n",
    "print(type(nilaiku))\n",
    "nilaiku = float(nilaiku)\n",
    "print(type(nilaiku))"
   ]
  },
  {
   "source": [
    "## Soal 3\n",
    "\n",
    "Kita sudah mengetahui bahwa kita dapat melakukan casting.\n",
    "\n",
    "Nanti, kita akan belajar cara mengolah 2 atau lebih variabel.\n",
    "\n",
    "Salah satu operator yang dapat digunakan adalah penjumlahan (+)\n",
    "\n",
    "\n",
    "Kita dapat menjumlahkan 2 variabel dengan :\n",
    "\n",
    "var1 + var2\n",
    "\n",
    "\n",
    "Tugas:\n",
    "\n",
    "Lengkapi kode berikut dengan langkah-langkah:\n",
    "\n",
    "1. Ubahlah tipe data dari var1 agar dapat dijumlahkan dengan benar dengan var2.\n",
    "\n",
    "2. Tampilkan hasil penjumlahan var1 dan var2.\n",
    "\n",
    "Magic Word : int(var1)"
   ],
   "cell_type": "markdown",
   "metadata": {}
  },
  {
   "cell_type": "code",
   "execution_count": null,
   "metadata": {},
   "outputs": [],
   "source": [
    "var1 = \"20\"\n",
    "var2 = 30\n",
    "\n",
    "#code here\n",
    "\n",
    "var3 = var1 + var2\n",
    "print(var3)"
   ]
  },
  {
   "source": [
    "Expected output :\n",
    "\n",
    "50"
   ],
   "cell_type": "markdown",
   "metadata": {}
  }
 ]
}